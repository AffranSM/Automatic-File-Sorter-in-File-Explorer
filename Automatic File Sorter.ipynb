{
 "cells": [
  {
   "cell_type": "markdown",
   "id": "b3f9a2d7-6e5f-4b17-9594-3494c177571c",
   "metadata": {},
   "source": [
    "# Automatic File Sorter in File Explorer"
   ]
  },
  {
   "cell_type": "code",
   "execution_count": 21,
   "id": "e202dac7-e73c-4ad4-a781-500876821844",
   "metadata": {},
   "outputs": [],
   "source": [
    "import os, shutil"
   ]
  },
  {
   "cell_type": "code",
   "execution_count": 22,
   "id": "d2652895-edb8-4b43-9bf9-30acafbdd6d9",
   "metadata": {},
   "outputs": [],
   "source": [
    "path = r\"C:/Users/iamaf/Downloads/Python Files/\""
   ]
  },
  {
   "cell_type": "code",
   "execution_count": 23,
   "id": "4ff8b432-f02b-4a20-800b-47c5ce4ce8a9",
   "metadata": {},
   "outputs": [],
   "source": [
    "file_name = os.listdir(path)"
   ]
  },
  {
   "cell_type": "code",
   "execution_count": 24,
   "id": "17033374-fd60-48da-946a-baf910d374c2",
   "metadata": {},
   "outputs": [
    {
     "name": "stdout",
     "output_type": "stream",
     "text": [
      "C:/Users/iamaf/Downloads/Python Files/csv files\n",
      "C:/Users/iamaf/Downloads/Python Files/image files\n",
      "C:/Users/iamaf/Downloads/Python Files/text files\n"
     ]
    }
   ],
   "source": [
    "folder_names= ['csv files', 'image files', 'text files']\n",
    "for loop in range(0,3):\n",
    "    if not os.path.exists(path + folder_names[loop]):\n",
    "        print(path + folder_names[loop])\n",
    "        os.makedirs((path + folder_names[loop]))\n",
    "\n",
    "for file in file_name:\n",
    "    if \".csv\" in file and not os.path.exists(path + \"csv files/\" + file):\n",
    "        shutil.move(path + file, path + \"csv files/\" + file)\n",
    "    elif \".png\" in file and not os.path.exists(path + \"image files/\" + file):\n",
    "        shutil.move(path + file, path + \"image files/\" + file)\n",
    "    elif \".txt\" in file and not os.path.exists(path + \"text files/\" + file):\n",
    "        shutil.move(path + file, path + \"text files/\" + file)\n",
    "    else:\n",
    "        print(\"There are files in this path that were not moved\")"
   ]
  },
  {
   "cell_type": "code",
   "execution_count": 19,
   "id": "b92d1b49-d52c-4ada-af79-7de3e24e349e",
   "metadata": {},
   "outputs": [],
   "source": []
  }
 ],
 "metadata": {
  "kernelspec": {
   "display_name": "Python 3 (ipykernel)",
   "language": "python",
   "name": "python3"
  },
  "language_info": {
   "codemirror_mode": {
    "name": "ipython",
    "version": 3
   },
   "file_extension": ".py",
   "mimetype": "text/x-python",
   "name": "python",
   "nbconvert_exporter": "python",
   "pygments_lexer": "ipython3",
   "version": "3.12.3"
  }
 },
 "nbformat": 4,
 "nbformat_minor": 5
}
